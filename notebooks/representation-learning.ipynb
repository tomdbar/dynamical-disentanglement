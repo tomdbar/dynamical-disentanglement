{
 "cells": [
  {
   "cell_type": "markdown",
   "metadata": {},
   "source": [
    "##### Set-up\n",
    "\n",
    "Importing and setting up the code.  If we are in Colab then this will include cloning the project from GitHub and downloading the datasets.  Otherwise, if running the notebook locally, we just check that the current working directory is what we expect."
   ]
  },
  {
   "cell_type": "code",
   "execution_count": null,
   "metadata": {},
   "outputs": [],
   "source": [
    "import os\n",
    "import h5py\n",
    "\n",
    "try:\n",
    "    from google.colab import drive\n",
    "    IN_COLLAB=True\n",
    "    \n",
    "    try:\n",
    "        try:\n",
    "            from src.representations import Representation\n",
    "        except:\n",
    "            os.chdir(\"dynamical-disentanglement\")\n",
    "            !git pull\n",
    "    except:\n",
    "        print(\"-----Cloning from source---\\n\\n\")\n",
    "        !git clone https://github.com/tomdbar/dynamical-disentanglement.git        \n",
    "        os.chdir(\"dynamical-disentanglement\")\n",
    "\n",
    "    try:\n",
    "        h5py.File(\"./_data/3dshapes.h5\", 'r')[\"images\"]\n",
    "    except:\n",
    "        print(\"\\n\\n-----Downloading datasets---\\n\\n\")\n",
    "        !scripts/download_3dcars.sh\n",
    "        !scripts/download_3dshapes.sh\n",
    "\n",
    "except ModuleNotFoundError:\n",
    "    IN_COLLAB=False\n",
    "    \n",
    "    i = 0\n",
    "    while ('_data' not in os.listdir()) and (i < 5):\n",
    "        os.chdir(\"../\")\n",
    "        i += 1\n",
    "        \n",
    "if IN_COLLAB:\n",
    "    print(\"\\n\\nNotebook hosted on Google Colab.\")\n",
    "else:\n",
    "    print(\"Notebook hosted in local environment.\")\n",
    "print(\"Set cwd to :\", os.getcwd())"
   ]
  },
  {
   "cell_type": "markdown",
   "metadata": {},
   "source": [
    "Import the required functions.\n",
    "\n",
    "Yes, this really is all we need as ``DynamicRepresentationLearner`` wraps-up everything and does the heavy lifting.  Of course, to extend the work you probably want access to the inner-workings in more detail, so the other notebook (``introduction.ipynb``) provides a more detailed introduction in this regard."
   ]
  },
  {
   "cell_type": "code",
   "execution_count": null,
   "metadata": {},
   "outputs": [],
   "source": [
    "from src.learners import DynamicRepresentationLearner, LossTarget\n",
    "from src.factorised_datasets import GridWorld, Cars3D, Shapes3D"
   ]
  },
  {
   "cell_type": "markdown",
   "metadata": {},
   "source": [
    "##### Train\n",
    "\n",
    "Create the desired dataset, pass it to ``DynamicRepresentationLearner`` with arguments detailing the latent space and desired entanglement regularisation and watch it go..."
   ]
  },
  {
   "cell_type": "code",
   "execution_count": null,
   "metadata": {},
   "outputs": [],
   "source": [
    "# dataset = Shapes3D([5, 5, 1, 1, 1, 1])\n",
    "# dataset = Cars3D([4,4,1])\n",
    "dataset = GridWorld([5,5,[0],[0],[4]])"
   ]
  },
  {
   "cell_type": "code",
   "execution_count": null,
   "metadata": {},
   "outputs": [],
   "source": [
    "if len(dataset.dataset)< 30:\n",
    "    dataset.imshow();"
   ]
  },
  {
   "cell_type": "code",
   "execution_count": null,
   "metadata": {},
   "outputs": [],
   "source": [
    "rep_learner = DynamicRepresentationLearner(dataset,\n",
    "                                           latent_dim=4,\n",
    "                                           episode_length = 20,\n",
    "                                           num_parallel_episodes = 3,\n",
    "                                           max_action_magnitude=1,\n",
    "                                           \n",
    "                                           lr_enc=5e-3,\n",
    "                                           lr_dec=5e-3,\n",
    "                                           lr_rep=5e-3,\n",
    "                                           \n",
    "                                           ent_loss_weight = 0,\n",
    "                                           final_ent_loss_weight = 1e-5,\n",
    "                                           final_ent_loss_weight_iter=5000,\n",
    "                                           ent_loss_target=LossTarget.MIN,\n",
    "                                           random_resets=False,\n",
    "\n",
    "                                           save_loc=\"_results/gridworld/\")"
   ]
  },
  {
   "cell_type": "code",
   "execution_count": null,
   "metadata": {},
   "outputs": [],
   "source": [
    "rep_learner.train(num_sgd_steps=100,log_freq=10)\n",
    "rep_learner.save()"
   ]
  },
  {
   "cell_type": "code",
   "execution_count": null,
   "metadata": {},
   "outputs": [],
   "source": [
    "rep_learner.plot_training(save=False);"
   ]
  },
  {
   "cell_type": "markdown",
   "metadata": {},
   "source": [
    "##### Test\n",
    "\n",
    "Use the built in helper functions to test the learnt representations."
   ]
  },
  {
   "cell_type": "code",
   "execution_count": null,
   "metadata": {},
   "outputs": [],
   "source": [
    "rep_learner.test(episode_length=20,\n",
    "                 num_episodes=10,\n",
    "                 save_scores=True, # Save pd.Dataframe of scores from each episode.\n",
    "                 save_plot=True, # Save plot of scores from each episode.\n",
    "                 show_imgs=True, # Show ground truth and reconstructed images (from only a single episode).\n",
    "                 save_imgs=True) # Save ground truth and reconstructed images (from all episodes)"
   ]
  },
  {
   "cell_type": "code",
   "execution_count": null,
   "metadata": {
    "scrolled": true
   },
   "outputs": [],
   "source": [
    "rep_learner.plot_representations(save=True, num_highlight=1);"
   ]
  }
 ],
 "metadata": {
  "kernelspec": {
   "display_name": "Python [conda env:rep-learning]",
   "language": "python",
   "name": "conda-env-rep-learning-py"
  },
  "language_info": {
   "codemirror_mode": {
    "name": "ipython",
    "version": 3
   },
   "file_extension": ".py",
   "mimetype": "text/x-python",
   "name": "python",
   "nbconvert_exporter": "python",
   "pygments_lexer": "ipython3",
   "version": "3.7.5"
  }
 },
 "nbformat": 4,
 "nbformat_minor": 2
}
